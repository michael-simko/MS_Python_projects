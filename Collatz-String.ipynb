{
 "cells": [
  {
   "cell_type": "code",
   "execution_count": null,
   "metadata": {},
   "outputs": [],
   "source": [
    "#Collatz Numbers String Length Problem"
   ]
  },
  {
   "cell_type": "code",
   "execution_count": null,
   "metadata": {},
   "outputs": [],
   "source": [
    "#The goal of this script is to find the longest chain of Collatz numbers for any input less than 1,000,000.\n",
    "#My solution is to choose a number, run the calculations to create the string of numbers and count \n",
    "#the numbers using a dictionary to track number and string length. Repeat for the intergers 1 to 1 million.\n",
    "#Finally sort the dictionary to find the highest count value."
   ]
  },
  {
   "cell_type": "code",
   "execution_count": 8,
   "metadata": {},
   "outputs": [],
   "source": [
    "#create functions to handle the Collatz calculations\n",
    "def c_odd(n):\n",
    "    \"\"\"calculate the next number in the string when the number is odd\"\"\"\n",
    "    n = 3*n+1\n",
    "    return (n)\n",
    "    \n",
    "def c_even(n):\n",
    "    \"\"\"calculate the next number in the string when the number is even\"\"\"\n",
    "    n = n/2\n",
    "    return (n)"
   ]
  },
  {
   "cell_type": "code",
   "execution_count": 20,
   "metadata": {},
   "outputs": [
    {
     "name": "stdout",
     "output_type": "stream",
     "text": [
      "starting number is:  11000\n",
      "5500.0\n",
      "1\n",
      "2750.0\n",
      "2\n",
      "1375.0\n",
      "3\n",
      "4126.0\n",
      "4\n",
      "2063.0\n",
      "5\n",
      "6190.0\n",
      "6\n",
      "3095.0\n",
      "7\n",
      "9286.0\n",
      "8\n",
      "4643.0\n",
      "9\n",
      "13930.0\n",
      "10\n",
      "6965.0\n",
      "11\n",
      "20896.0\n",
      "12\n",
      "10448.0\n",
      "13\n",
      "5224.0\n",
      "14\n",
      "2612.0\n",
      "15\n",
      "1306.0\n",
      "16\n",
      "653.0\n",
      "17\n",
      "1960.0\n",
      "18\n",
      "980.0\n",
      "19\n",
      "490.0\n",
      "20\n",
      "245.0\n",
      "21\n",
      "736.0\n",
      "22\n",
      "368.0\n",
      "23\n",
      "184.0\n",
      "24\n",
      "92.0\n",
      "25\n",
      "46.0\n",
      "26\n",
      "23.0\n",
      "27\n",
      "70.0\n",
      "28\n",
      "35.0\n",
      "29\n",
      "106.0\n",
      "30\n",
      "53.0\n",
      "31\n",
      "160.0\n",
      "32\n",
      "80.0\n",
      "33\n",
      "40.0\n",
      "34\n",
      "20.0\n",
      "35\n",
      "10.0\n",
      "36\n",
      "5.0\n",
      "37\n",
      "16.0\n",
      "38\n",
      "8.0\n",
      "39\n",
      "4.0\n",
      "40\n",
      "2.0\n",
      "41\n",
      "1.0\n",
      "42\n"
     ]
    }
   ],
   "source": [
    "#loop to calculate the Collatz numbers and count the string length\n",
    "count = 0 #use c as the count variable\n",
    "x = 11000\n",
    "print (\"starting number is: \", str(x))\n",
    "while x != 1:\n",
    "    if x%2 == 0:\n",
    "        x = c_even(x)\n",
    "        count += 1\n",
    "    else:\n",
    "        x = c_odd(x)\n",
    "        count += 1\n",
    "    print (x)\n",
    "    print (count)"
   ]
  },
  {
   "cell_type": "code",
   "execution_count": null,
   "metadata": {},
   "outputs": [],
   "source": [
    "#sort the dictionary to find the largest number in the series and match with input number"
   ]
  }
 ],
 "metadata": {
  "kernelspec": {
   "display_name": "Python 3",
   "language": "python",
   "name": "python3"
  },
  "language_info": {
   "codemirror_mode": {
    "name": "ipython",
    "version": 3
   },
   "file_extension": ".py",
   "mimetype": "text/x-python",
   "name": "python",
   "nbconvert_exporter": "python",
   "pygments_lexer": "ipython3",
   "version": "3.6.5"
  }
 },
 "nbformat": 4,
 "nbformat_minor": 2
}
