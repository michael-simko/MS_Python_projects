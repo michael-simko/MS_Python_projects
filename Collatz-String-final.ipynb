{
 "cells": [
  {
   "cell_type": "code",
   "execution_count": 1,
   "metadata": {},
   "outputs": [],
   "source": [
    "#Collatz Numbers String Length Problem\n",
    "\n",
    "#The goal of this script is to find the longest chain of Collatz numbers for any input up to 1,000,000.\n",
    "\n",
    "#My solution is to choose a number, run the calculations to create the string of numbers and count \n",
    "#the numbers using a dictionary to track number and string length. Repeat for the intergers 1 to 1 million.\n",
    "#Finally sort the dictionary to find the highest count value."
   ]
  },
  {
   "cell_type": "code",
   "execution_count": 2,
   "metadata": {},
   "outputs": [],
   "source": [
    "#create functions to handle the Collatz calculations\n",
    "def c_odd(n):\n",
    "    \"\"\"calculate the next number in the string when the number is odd\"\"\"\n",
    "    n = 3*n+1\n",
    "    return (n)\n",
    "    \n",
    "def c_even(n):\n",
    "    \"\"\"calculate the next number in the string when the number is even\"\"\"\n",
    "    n = n/2\n",
    "    return (n)"
   ]
  },
  {
   "cell_type": "code",
   "execution_count": 3,
   "metadata": {},
   "outputs": [],
   "source": [
    "#create function to calculate the Collatz number string length\n",
    "def c_string(x):\n",
    "    \"\"\"calculate the Collatz sequence and measure number string length\"\"\"\n",
    "    count = 0 #initialize the count variable\n",
    "    #print (\"starting number is: \", str(x))\n",
    "    while x != 1:\n",
    "        if x%2 == 0:\n",
    "            x = c_even(x)\n",
    "            count += 1\n",
    "        else:\n",
    "            x = c_odd(x)\n",
    "            count += 1\n",
    "    return(count)"
   ]
  },
  {
   "cell_type": "code",
   "execution_count": 4,
   "metadata": {},
   "outputs": [],
   "source": [
    "stringset = {0:0} #create \"empty\" dictionary object to append as Collatz numbers iterate"
   ]
  },
  {
   "cell_type": "code",
   "execution_count": 5,
   "metadata": {},
   "outputs": [],
   "source": [
    "#run number range through the Collatz sequence\n",
    "for nums in range (1,1000001):\n",
    "    result = c_string(nums)\n",
    "    #print (result)\n",
    "    stringset.update({nums:result})\n",
    "#print(stringset)"
   ]
  },
  {
   "cell_type": "code",
   "execution_count": 6,
   "metadata": {},
   "outputs": [
    {
     "name": "stdout",
     "output_type": "stream",
     "text": [
      "The number which created the string with the greatest length is:  837799\n"
     ]
    }
   ],
   "source": [
    "#sort the dictionary for the largest string and return the input number\n",
    "max_key = max(stringset, key=lambda k: stringset[k])\n",
    "print(\"The number which created the string with the greatest length is: \",max_key)"
   ]
  },
  {
   "cell_type": "code",
   "execution_count": null,
   "metadata": {},
   "outputs": [],
   "source": []
  }
 ],
 "metadata": {
  "kernelspec": {
   "display_name": "Python 3",
   "language": "python",
   "name": "python3"
  },
  "language_info": {
   "codemirror_mode": {
    "name": "ipython",
    "version": 3
   },
   "file_extension": ".py",
   "mimetype": "text/x-python",
   "name": "python",
   "nbconvert_exporter": "python",
   "pygments_lexer": "ipython3",
   "version": "3.6.5"
  }
 },
 "nbformat": 4,
 "nbformat_minor": 2
}
